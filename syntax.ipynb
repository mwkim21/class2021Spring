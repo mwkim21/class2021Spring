{
  "nbformat": 4,
  "nbformat_minor": 0,
  "metadata": {
    "colab": {
      "name": "syntax.ipynb",
      "provenance": [],
      "collapsed_sections": [],
      "authorship_tag": "ABX9TyPZyWfZBHw7PwR9VotBaLjJ",
      "include_colab_link": true
    },
    "kernelspec": {
      "name": "python3",
      "display_name": "Python 3"
    }
  },
  "cells": [
    {
      "cell_type": "markdown",
      "metadata": {
        "id": "view-in-github",
        "colab_type": "text"
      },
      "source": [
        "<a href=\"https://colab.research.google.com/github/mwkim21/class2021Spring/blob/main/syntax.ipynb\" target=\"_parent\"><img src=\"https://colab.research.google.com/assets/colab-badge.svg\" alt=\"Open In Colab\"/></a>"
      ]
    },
    {
      "cell_type": "code",
      "metadata": {
        "colab": {
          "base_uri": "https://localhost:8080/"
        },
        "id": "coIKmkoRzIMU",
        "outputId": "77ff4977-01ba-443f-ff7c-b49ba01e7922"
      },
      "source": [
        "a = [1, 2, 3, 4, 'i']\r\n",
        "for i in a:\r\n",
        "    print(i)"
      ],
      "execution_count": 2,
      "outputs": [
        {
          "output_type": "stream",
          "text": [
            "1\n",
            "2\n",
            "3\n",
            "4\n",
            "i\n"
          ],
          "name": "stdout"
        }
      ]
    },
    {
      "cell_type": "markdown",
      "metadata": {
        "id": "jiAWXnH8J4j5"
      },
      "source": [
        "###반드시 **:**를 이용하여 **경계를 표시**하고, **명령**은 **tap을 통해 들여쓰기**해야함\r\n",
        "###**i**는 **print문의 반복 입력을 대신**함"
      ]
    },
    {
      "cell_type": "code",
      "metadata": {
        "colab": {
          "base_uri": "https://localhost:8080/"
        },
        "id": "mlTRKoQazSgV",
        "outputId": "90412551-21e1-4170-ba23-8812f8772703"
      },
      "source": [
        "a = [1, 2, 3, 4]\r\n",
        "for i in range(len(a)):\r\n",
        "    print(a[i-1])"
      ],
      "execution_count": 3,
      "outputs": [
        {
          "output_type": "stream",
          "text": [
            "4\n",
            "1\n",
            "2\n",
            "3\n"
          ],
          "name": "stdout"
        }
      ]
    },
    {
      "cell_type": "markdown",
      "metadata": {
        "id": "7S5xTHmgKcw2"
      },
      "source": [
        "###**range**는 **0부터의 일렬 번호를 입력한 값만큼 출력**"
      ]
    },
    {
      "cell_type": "code",
      "metadata": {
        "colab": {
          "base_uri": "https://localhost:8080/"
        },
        "id": "Ml7HItQrzSix",
        "outputId": "bb444003-60d7-4814-e73a-03637cd77338"
      },
      "source": [
        "a = ['red', 'green', 'blue', 'purple']\r\n",
        "for i in a:\r\n",
        "    print(i)"
      ],
      "execution_count": null,
      "outputs": [
        {
          "output_type": "stream",
          "text": [
            "red\n",
            "green\n",
            "blue\n",
            "purple\n"
          ],
          "name": "stdout"
        }
      ]
    },
    {
      "cell_type": "code",
      "metadata": {
        "colab": {
          "base_uri": "https://localhost:8080/"
        },
        "id": "xXtQ7BhezSlR",
        "outputId": "538a01f9-3390-4bf4-dbba-7133f6db552c"
      },
      "source": [
        "a = ['red', 'green', 'blue', 'purple']\r\n",
        "for i in range(len(a)):\r\n",
        "    print(a[i])"
      ],
      "execution_count": null,
      "outputs": [
        {
          "output_type": "stream",
          "text": [
            "red\n",
            "green\n",
            "blue\n",
            "purple\n"
          ],
          "name": "stdout"
        }
      ]
    },
    {
      "cell_type": "code",
      "metadata": {
        "colab": {
          "base_uri": "https://localhost:8080/"
        },
        "id": "m4EFn39EzSnf",
        "outputId": "55dd3968-76d2-4233-afb3-5563a691d420"
      },
      "source": [
        "\r\n",
        "a = [\"red\", \"green\", \"blue\", \"purple\"]\r\n",
        "b = [0.2, 0.3, 0.1, 0.4]\r\n",
        "for i, a_ in enumerate(a):\r\n",
        "    print(\"{}: {}%\".format(a_, b[i]*100))"
      ],
      "execution_count": null,
      "outputs": [
        {
          "output_type": "stream",
          "text": [
            "red: 20.0%\n",
            "green: 30.0%\n",
            "blue: 10.0%\n",
            "purple: 40.0%\n"
          ],
          "name": "stdout"
        }
      ]
    },
    {
      "cell_type": "code",
      "metadata": {
        "colab": {
          "base_uri": "https://localhost:8080/"
        },
        "id": "7sy1sO4azSp3",
        "outputId": "866e06df-c60f-43ae-84a2-ef8a7f1a7515"
      },
      "source": [
        "a = [\"red\", \"green\", \"blue\", \"purple\"]\r\n",
        "b = [0.2, 0.3, 0.1, 0.4]\r\n",
        "for a_, b_ in zip(a, b):\r\n",
        "    print(\"{}: {}%\".format(a_, b_*100))"
      ],
      "execution_count": null,
      "outputs": [
        {
          "output_type": "stream",
          "text": [
            "red: 20.0%\n",
            "green: 30.0%\n",
            "blue: 10.0%\n",
            "purple: 40.0%\n"
          ],
          "name": "stdout"
        }
      ]
    },
    {
      "cell_type": "code",
      "metadata": {
        "colab": {
          "base_uri": "https://localhost:8080/"
        },
        "id": "xr1khxWAzSr9",
        "outputId": "104abdd2-3b1b-4b7b-9a0f-082a9398d912"
      },
      "source": [
        "a = 0\r\n",
        "if a == 0:\r\n",
        "    print(a)\r\n",
        "else:\r\n",
        "    print(a+1)"
      ],
      "execution_count": null,
      "outputs": [
        {
          "output_type": "stream",
          "text": [
            "0\n"
          ],
          "name": "stdout"
        }
      ]
    },
    {
      "cell_type": "code",
      "metadata": {
        "colab": {
          "base_uri": "https://localhost:8080/"
        },
        "id": "kTEGq0XfzSvY",
        "outputId": "35e348b9-cd99-4b16-b6dc-b81b60d2a831"
      },
      "source": [
        "for i in range(1, 3):\r\n",
        "    for j in range(3, 5):\r\n",
        "        print(i*j)"
      ],
      "execution_count": null,
      "outputs": [
        {
          "output_type": "stream",
          "text": [
            "3\n",
            "4\n",
            "6\n",
            "8\n"
          ],
          "name": "stdout"
        }
      ]
    },
    {
      "cell_type": "code",
      "metadata": {
        "colab": {
          "base_uri": "https://localhost:8080/"
        },
        "id": "13ZtIGO9zcdD",
        "outputId": "936fc4b2-7f0d-4c13-dc49-5292f1879fbf"
      },
      "source": [
        "for i in range(1, 3):\r\n",
        "    for j in range(3, 5):\r\n",
        "        if j >=4:\r\n",
        "            print(i*j)"
      ],
      "execution_count": null,
      "outputs": [
        {
          "output_type": "stream",
          "text": [
            "4\n",
            "8\n"
          ],
          "name": "stdout"
        }
      ]
    },
    {
      "cell_type": "code",
      "metadata": {
        "colab": {
          "base_uri": "https://localhost:8080/"
        },
        "id": "juQ461cszcga",
        "outputId": "544ad2ea-6610-463c-cdea-a065ea8280a7"
      },
      "source": [
        "a = [1, 2, 3, 4]\r\n",
        "b = [i for i in a if i >=2]\r\n",
        "b"
      ],
      "execution_count": null,
      "outputs": [
        {
          "output_type": "execute_result",
          "data": {
            "text/plain": [
              "[2, 3, 4]"
            ]
          },
          "metadata": {
            "tags": []
          },
          "execution_count": 20
        }
      ]
    },
    {
      "cell_type": "code",
      "metadata": {
        "colab": {
          "base_uri": "https://localhost:8080/"
        },
        "id": "KwmM6BEYzj-f",
        "outputId": "0c234e6a-bfbd-4b9e-a57f-3efdc95c0957"
      },
      "source": [
        "a = ['red', 'green', 'blue', 'purple']\r\n",
        "b = [i for i in a if len(i) >=4]\r\n",
        "b"
      ],
      "execution_count": null,
      "outputs": [
        {
          "output_type": "execute_result",
          "data": {
            "text/plain": [
              "['green', 'blue', 'purple']"
            ]
          },
          "metadata": {
            "tags": []
          },
          "execution_count": 21
        }
      ]
    }
  ]
}