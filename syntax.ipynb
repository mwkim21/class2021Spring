{
  "nbformat": 4,
  "nbformat_minor": 0,
  "metadata": {
    "colab": {
      "name": "syntax.ipynb",
      "provenance": [],
      "collapsed_sections": [],
      "authorship_tag": "ABX9TyMpEk3qFPpJcyNWbz91CDoY",
      "include_colab_link": true
    },
    "kernelspec": {
      "name": "python3",
      "display_name": "Python 3"
    }
  },
  "cells": [
    {
      "cell_type": "markdown",
      "metadata": {
        "id": "view-in-github",
        "colab_type": "text"
      },
      "source": [
        "<a href=\"https://colab.research.google.com/github/mwkim21/class2021Spring/blob/main/syntax.ipynb\" target=\"_parent\"><img src=\"https://colab.research.google.com/assets/colab-badge.svg\" alt=\"Open In Colab\"/></a>"
      ]
    },
    {
      "cell_type": "code",
      "metadata": {
        "colab": {
          "base_uri": "https://localhost:8080/"
        },
        "id": "coIKmkoRzIMU",
        "outputId": "2e0b4e27-52b9-41f6-c8ee-2b1ac09494f7"
      },
      "source": [
        "a = [1, 2, 3, 4]\r\n",
        "for i in a:\r\n",
        "    print(i)"
      ],
      "execution_count": 1,
      "outputs": [
        {
          "output_type": "stream",
          "text": [
            "1\n",
            "2\n",
            "3\n",
            "4\n"
          ],
          "name": "stdout"
        }
      ]
    },
    {
      "cell_type": "code",
      "metadata": {
        "id": "mlTRKoQazSgV"
      },
      "source": [
        "a = [1, 2, 3, 4]\r\n",
        "for i in range(len(a)):\r\n",
        "    print(a[i])"
      ],
      "execution_count": null,
      "outputs": []
    },
    {
      "cell_type": "code",
      "metadata": {
        "id": "Ml7HItQrzSix"
      },
      "source": [
        "a = ['red', 'green', 'blue', 'purple']\r\n",
        "for i in a:\r\n",
        "    print(i)"
      ],
      "execution_count": null,
      "outputs": []
    },
    {
      "cell_type": "code",
      "metadata": {
        "id": "xXtQ7BhezSlR"
      },
      "source": [
        "a = ['red', 'green', 'blue', 'purple']\r\n",
        "for i in range(len(a)):\r\n",
        "    print(a[i])"
      ],
      "execution_count": null,
      "outputs": []
    },
    {
      "cell_type": "code",
      "metadata": {
        "id": "m4EFn39EzSnf"
      },
      "source": [
        "\r\n",
        "a = [\"red\", \"green\", \"blue\", \"purple\"]\r\n",
        "b = [0.2, 0.3, 0.1, 0.4]\r\n",
        "for i, a_ in enumerate(a):\r\n",
        "    print(\"{}: {}%\".format(a_, b[i]*100))"
      ],
      "execution_count": null,
      "outputs": []
    },
    {
      "cell_type": "code",
      "metadata": {
        "id": "7sy1sO4azSp3"
      },
      "source": [
        "a = [\"red\", \"green\", \"blue\", \"purple\"]\r\n",
        "b = [0.2, 0.3, 0.1, 0.4]\r\n",
        "for a_, b_ in zip(a, b):\r\n",
        "    print(\"{}: {}%\".format(a_, b_*100))"
      ],
      "execution_count": null,
      "outputs": []
    },
    {
      "cell_type": "code",
      "metadata": {
        "id": "xr1khxWAzSr9"
      },
      "source": [
        "a = 0\r\n",
        "if a == 0:\r\n",
        "    print(a)\r\n",
        "else:\r\n",
        "    print(a+1)"
      ],
      "execution_count": null,
      "outputs": []
    },
    {
      "cell_type": "code",
      "metadata": {
        "id": "kTEGq0XfzSvY"
      },
      "source": [
        "for i in range(1, 3):\r\n",
        "    for j in range(3, 5):\r\n",
        "        print(i*j)"
      ],
      "execution_count": null,
      "outputs": []
    },
    {
      "cell_type": "code",
      "metadata": {
        "id": "13ZtIGO9zcdD"
      },
      "source": [
        "for i in range(1, 3):\r\n",
        "    for j in range(3, 5):\r\n",
        "        if j >=4:\r\n",
        "            print(i*j)"
      ],
      "execution_count": null,
      "outputs": []
    },
    {
      "cell_type": "code",
      "metadata": {
        "id": "juQ461cszcga"
      },
      "source": [
        "a = [1, 2, 3, 4]\r\n",
        "b = [i for i in a if i >=2]\r\n",
        "b"
      ],
      "execution_count": null,
      "outputs": []
    },
    {
      "cell_type": "code",
      "metadata": {
        "id": "KwmM6BEYzj-f"
      },
      "source": [
        "a = ['red', 'green', 'blue', 'purple']\r\n",
        "b = [i for i in a if len(i) >=4]\r\n",
        "b"
      ],
      "execution_count": null,
      "outputs": []
    }
  ]
}