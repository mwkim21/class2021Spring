{
  "nbformat": 4,
  "nbformat_minor": 0,
  "metadata": {
    "colab": {
      "name": "20210317.ipynb",
      "provenance": [],
      "authorship_tag": "ABX9TyNpfhN4aq9GvTl+HcNjHTMt",
      "include_colab_link": true
    },
    "kernelspec": {
      "name": "python3",
      "display_name": "Python 3"
    }
  },
  "cells": [
    {
      "cell_type": "markdown",
      "metadata": {
        "id": "view-in-github",
        "colab_type": "text"
      },
      "source": [
        "<a href=\"https://colab.research.google.com/github/mwkim21/class2021Spring/blob/main/20210317.ipynb\" target=\"_parent\"><img src=\"https://colab.research.google.com/assets/colab-badge.svg\" alt=\"Open In Colab\"/></a>"
      ]
    },
    {
      "cell_type": "code",
      "metadata": {
        "id": "RMTjqek9uNBU"
      },
      "source": [
        ""
      ],
      "execution_count": null,
      "outputs": []
    },
    {
      "cell_type": "code",
      "metadata": {
        "colab": {
          "base_uri": "https://localhost:8080/"
        },
        "id": "6t-EkXxhua_3",
        "outputId": "b642acc5-a539-46d6-b173-757d17274dcb"
      },
      "source": [
        "for i in range(1,5):\r\n",
        "  for j in range(2,10,2):\r\n",
        "    if j>=5:\r\n",
        "      print(i*j)"
      ],
      "execution_count": 2,
      "outputs": [
        {
          "output_type": "stream",
          "text": [
            "6\n",
            "8\n",
            "12\n",
            "16\n",
            "18\n",
            "24\n",
            "24\n",
            "32\n"
          ],
          "name": "stdout"
        }
      ]
    },
    {
      "cell_type": "code",
      "metadata": {
        "colab": {
          "base_uri": "https://localhost:8080/"
        },
        "id": "mUxlFeC5vgRR",
        "outputId": "5b0c42ce-04b2-4534-bfc9-55a61008be2d"
      },
      "source": [
        "a = [i for i in range(1,5)]\r\n",
        "b = [j for j in a if j<=3]\r\n",
        "print(a)\r\n",
        "print(b)"
      ],
      "execution_count": 7,
      "outputs": [
        {
          "output_type": "stream",
          "text": [
            "[1, 2, 3, 4]\n",
            "[1, 2, 3]\n"
          ],
          "name": "stdout"
        }
      ]
    }
  ]
}