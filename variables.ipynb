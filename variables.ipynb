{
  "nbformat": 4,
  "nbformat_minor": 0,
  "metadata": {
    "colab": {
      "name": "Untitled0.ipynb",
      "provenance": [],
      "authorship_tag": "ABX9TyOK30Pb1TJc0iodkA594078",
      "include_colab_link": true
    },
    "kernelspec": {
      "name": "python3",
      "display_name": "Python 3"
    }
  },
  "cells": [
    {
      "cell_type": "markdown",
      "metadata": {
        "id": "view-in-github",
        "colab_type": "text"
      },
      "source": [
        "<a href=\"https://colab.research.google.com/github/mwkim21/class2021Spring/blob/main/variables.ipynb\" target=\"_parent\"><img src=\"https://colab.research.google.com/assets/colab-badge.svg\" alt=\"Open In Colab\"/></a>"
      ]
    },
    {
      "cell_type": "code",
      "metadata": {
        "colab": {
          "base_uri": "https://localhost:8080/"
        },
        "id": "yuTdB4KYyckv",
        "outputId": "19623418-25f6-4100-bcd7-9897cc8571d3"
      },
      "source": [
        "a = 1\r\n",
        "print(type(a))"
      ],
      "execution_count": null,
      "outputs": [
        {
          "output_type": "stream",
          "text": [
            "<class 'int'>\n"
          ],
          "name": "stdout"
        }
      ]
    },
    {
      "cell_type": "code",
      "metadata": {
        "colab": {
          "base_uri": "https://localhost:8080/"
        },
        "id": "7FjWGPuByfgx",
        "outputId": "4f38156c-b3f4-45a2-ff0c-532a7b5d1118"
      },
      "source": [
        "a = 1\r\n",
        "a = float(a)\r\n",
        "print(type(a))\r\n",
        "print(a)"
      ],
      "execution_count": 1,
      "outputs": [
        {
          "output_type": "stream",
          "text": [
            "<class 'float'>\n",
            "1.0\n"
          ],
          "name": "stdout"
        }
      ]
    },
    {
      "cell_type": "code",
      "metadata": {
        "colab": {
          "base_uri": "https://localhost:8080/"
        },
        "id": "hMC1rMQFyiGF",
        "outputId": "fe347dd0-bc40-41a1-8b5b-b59e149d27b9"
      },
      "source": [
        "a = 1.2\r\n",
        "a = int(a)\r\n",
        "print(type(a))"
      ],
      "execution_count": null,
      "outputs": [
        {
          "output_type": "stream",
          "text": [
            "<class 'int'>\n"
          ],
          "name": "stdout"
        }
      ]
    },
    {
      "cell_type": "code",
      "metadata": {
        "colab": {
          "base_uri": "https://localhost:8080/"
        },
        "id": "rqlC35uvyjPb",
        "outputId": "00f1350d-c65f-485b-9fa7-a32b59caadf5"
      },
      "source": [
        "a = '123'\r\n",
        "print(type(a))\r\n",
        "print(a[1])\r\n",
        "print(a)\r\n",
        "(print(a[-1]))"
      ],
      "execution_count": 2,
      "outputs": [
        {
          "output_type": "stream",
          "text": [
            "<class 'str'>\n",
            "2\n",
            "123\n",
            "3\n"
          ],
          "name": "stdout"
        }
      ]
    },
    {
      "cell_type": "markdown",
      "metadata": {
        "id": "xYRyTDGiFkjx"
      },
      "source": [
        "###**0**을 **첫번째**로 인식함\r\n",
        "###**-1**은 **마지막 텍스트**를 의미함"
      ]
    },
    {
      "cell_type": "code",
      "metadata": {
        "colab": {
          "base_uri": "https://localhost:8080/"
        },
        "id": "puubgWAsymO8",
        "outputId": "34c34787-8b38-4b5c-86d8-ded8b65c5341"
      },
      "source": [
        "a = '123'\r\n",
        "a = list(a)\r\n",
        "print(type(a))\r\n",
        "print(a)\r\n",
        "print(a[2])"
      ],
      "execution_count": null,
      "outputs": [
        {
          "output_type": "stream",
          "text": [
            "<class 'list'>\n",
            "['1', '2', '3']\n",
            "3\n"
          ],
          "name": "stdout"
        }
      ]
    },
    {
      "cell_type": "code",
      "metadata": {
        "colab": {
          "base_uri": "https://localhost:8080/"
        },
        "id": "StPNe1IWym78",
        "outputId": "45648e80-2c72-4f3d-b915-06bddb605b49"
      },
      "source": [
        "a = [1,'2', [3, '4', 5]]\r\n",
        "print(type(a))\r\n",
        "print(a[0])\r\n",
        "print(a[1])\r\n",
        "print(a[2])"
      ],
      "execution_count": 4,
      "outputs": [
        {
          "output_type": "stream",
          "text": [
            "<class 'list'>\n",
            "1\n",
            "2\n",
            "[3, '4', 5]\n"
          ],
          "name": "stdout"
        }
      ]
    },
    {
      "cell_type": "markdown",
      "metadata": {
        "id": "zmBECx7qGAtT"
      },
      "source": [
        "###**리스트**안에는 **숫자, 문자, 리스트** 모두 들어갈 수 있음"
      ]
    },
    {
      "cell_type": "code",
      "metadata": {
        "colab": {
          "base_uri": "https://localhost:8080/"
        },
        "id": "aptoXNnKynGx",
        "outputId": "10f7b73c-d032-4643-d554-f0c989799b9f"
      },
      "source": [
        "a = (1,'2', [3, '4'])\r\n",
        "print(type(a))\r\n",
        "print(a[0])\r\n",
        "print(a[1])\r\n",
        "print(a[2])"
      ],
      "execution_count": null,
      "outputs": [
        {
          "output_type": "stream",
          "text": [
            "<class 'tuple'>\n",
            "1\n",
            "2\n",
            "[3, '4']\n"
          ],
          "name": "stdout"
        }
      ]
    },
    {
      "cell_type": "code",
      "metadata": {
        "colab": {
          "base_uri": "https://localhost:8080/"
        },
        "id": "a-bFU9RfynN2",
        "outputId": "f1eef5c1-5a3a-4729-c2f4-914efd68d84d"
      },
      "source": [
        "a =\t{'a': '12', 'b': '4e', 'c': 2021}\r\n",
        "print(type(a))\r\n",
        "print(a['a'])\r\n",
        "print(a['c'])"
      ],
      "execution_count": 9,
      "outputs": [
        {
          "output_type": "stream",
          "text": [
            "<class 'dict'>\n",
            "12\n",
            "2021\n"
          ],
          "name": "stdout"
        }
      ]
    },
    {
      "cell_type": "markdown",
      "metadata": {
        "id": "Qz1iOKQMGNh5"
      },
      "source": [
        "###**dict**는 사전처럼 **단어와 정의를 정의**할 수 있음\r\n",
        "###단어는 **외따옴표(')**를 이용하여 정의하며, 정의는 **문자, 숫자 모두 가능**"
      ]
    },
    {
      "cell_type": "code",
      "metadata": {
        "colab": {
          "base_uri": "https://localhost:8080/"
        },
        "id": "qffI5CmYyyMm",
        "outputId": "df11ae3c-d3f5-4bf3-9b37-695240ba8b49"
      },
      "source": [
        "a=[(1,2,3), (3,8,0)]\r\n",
        "print(type(a))\r\n",
        "a"
      ],
      "execution_count": null,
      "outputs": [
        {
          "output_type": "stream",
          "text": [
            "<class 'list'>\n"
          ],
          "name": "stdout"
        },
        {
          "output_type": "execute_result",
          "data": {
            "text/plain": [
              "[(1, 2, 3), (3, 8, 0)]"
            ]
          },
          "metadata": {
            "tags": []
          },
          "execution_count": 9
        }
      ]
    }
  ]
}