{
  "nbformat": 4,
  "nbformat_minor": 0,
  "metadata": {
    "colab": {
      "name": "20210331.ipynb",
      "provenance": [],
      "authorship_tag": "ABX9TyM4mmfaQ1n/gaWIGiFOCwNp",
      "include_colab_link": true
    },
    "kernelspec": {
      "name": "python3",
      "display_name": "Python 3"
    },
    "language_info": {
      "name": "python"
    }
  },
  "cells": [
    {
      "cell_type": "markdown",
      "metadata": {
        "id": "view-in-github",
        "colab_type": "text"
      },
      "source": [
        "<a href=\"https://colab.research.google.com/github/mwkim21/class2021Spring/blob/main/20210331.ipynb\" target=\"_parent\"><img src=\"https://colab.research.google.com/assets/colab-badge.svg\" alt=\"Open In Colab\"/></a>"
      ]
    },
    {
      "cell_type": "markdown",
      "metadata": {
        "id": "Mw90SEpc4yJM"
      },
      "source": [
        "#[a]\n",
        "###**pitch**: 112Hz\n",
        "###**intensity**:70dB\n",
        "###**formant**:\n",
        "###F1 755Hz\n",
        "###F2 1367Hz\n",
        "###**duration**: 0.57s\n",
        "\n",
        "#[e]\n",
        "###**pitch**: 112Hz\n",
        "###**intensity**:68dB\n",
        "###**formant**:\n",
        "###F1 488Hz\n",
        "###F2 1829Hz\n",
        "###**duration**:0.46s\n"
      ]
    }
  ]
}