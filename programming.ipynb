{
  "nbformat": 4,
  "nbformat_minor": 0,
  "metadata": {
    "colab": {
      "name": "programming.ipynb",
      "provenance": [],
      "authorship_tag": "ABX9TyNa0Uz3l0UgPdCLFQSEYolR",
      "include_colab_link": true
    },
    "kernelspec": {
      "name": "python3",
      "display_name": "Python 3"
    }
  },
  "cells": [
    {
      "cell_type": "markdown",
      "metadata": {
        "id": "view-in-github",
        "colab_type": "text"
      },
      "source": [
        "<a href=\"https://colab.research.google.com/github/mwkim21/class2021Spring/blob/main/programming.ipynb\" target=\"_parent\"><img src=\"https://colab.research.google.com/assets/colab-badge.svg\" alt=\"Open In Colab\"/></a>"
      ]
    },
    {
      "cell_type": "code",
      "metadata": {
        "id": "D18NvqBgo7QX"
      },
      "source": [
        ""
      ],
      "execution_count": null,
      "outputs": []
    },
    {
      "cell_type": "markdown",
      "metadata": {
        "id": "kRLTyhYdpJz9"
      },
      "source": [
        "인간의 언어와 컴퓨터 언어는 모두 단어와 문법의 틀을 가진다.\r\n",
        "\r\n",
        "컴퓨터 언어의 단어 정의와 문법은 아래와 같다.\r\n",
        "\r\n",
        "#변수\r\n",
        "## 컴퓨터 언어의 단어에 해당\r\n",
        "### a=1, b='love' 와 같이 정의\r\n",
        "### a와 b가 변수 / 1 과 love 가 정의\r\n",
        "#### =는 assign의 의미를 가짐\r\n",
        "#### equal의 의미가 필요한 경우 ==를 사용\r\n",
        "#### 문자는 '' 안에 입력\r\n",
        "\r\n",
        "\r\n",
        "\r\n",
        "#제어문\r\n",
        "## 컴퓨터 언어의 문법에 해당\r\n",
        "### 반복의 경우 for, 조건의 경우 if를 이용\r\n",
        "### 예) \r\n",
        "        a=1\r\n",
        "        if a==1\r\n",
        "        print(3)\r\n",
        "\r\n",
        "\r\n",
        "#함수\r\n",
        "## 입출력관계\r\n",
        "### input 이 있었을 때 변화를 거쳐 output이 출력\r\n",
        "#### 수학적으로는 y=ax+b와 같은 일차함수와 여러함수가 있음\r\n",
        "#### 일상에서도 자동차의 운행이나 인간의 신체 등 모두 함수의 사례가 됨\r\n",
        "\r\n"
      ]
    }
  ]
}